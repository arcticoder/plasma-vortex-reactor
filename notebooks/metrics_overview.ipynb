{
 "cells": [
  {
   "cell_type": "markdown",
   "id": "db45e23f",
   "metadata": {},
   "source": [
    "# Metrics Overview\n",
    "This notebook visualizes core metrics using generated artifacts."
   ]
  },
  {
   "cell_type": "code",
   "execution_count": null,
   "id": "ae30c423",
   "metadata": {},
   "outputs": [],
   "source": [
    "import json, numpy as np\n",
    "from pathlib import Path\n",
    "from reactor.analysis import windowed_gamma\n",
    "# Load feasibility report if present\n",
    "rep_path = Path('feasibility_gates_report.json')\n",
    "report = json.loads(rep_path.read_text()) if rep_path.exists() else {}\n",
    "gamma_series = np.array([150, 150, 120, 160, 140, 145], dtype=float)\n",
    "wg = windowed_gamma(gamma_series, window_size=3)\n",
    "wg"
   ]
  },
  {
   "cell_type": "code",
   "execution_count": null,
   "id": "14fb6999",
   "metadata": {},
   "outputs": [],
   "source": [
    "# Optional plotting using helper (matplotlib required)\n",
    "try:\n",
    "    from reactor.plotting import quick_scatter\n",
    "    xs = list(range(len(gamma_series)-2))\n",
    "    quick_scatter(xs, list(wg['mean']), 'gamma_windowed.png', xlabel='t', ylabel='Gamma_mean', title='Windowed Gamma (mean)')\n",
    "    print('Saved gamma_windowed.png')\n",
    "except Exception as e:\n",
    "    print('Plot skipped:', e)"
   ]
  }
 ],
 "metadata": {
  "language_info": {
   "name": "python"
  }
 },
 "nbformat": 4,
 "nbformat_minor": 5
}
